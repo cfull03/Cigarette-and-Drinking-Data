{
 "cells": [
  {
   "cell_type": "code",
   "execution_count": null,
   "id": "c23f4718-d62e-4aa9-9927-2852a366f849",
   "metadata": {},
   "outputs": [],
   "source": [
    "import numpy as np\n",
    "import pandas as pd\n",
    "import matplotlib.pyplot as plt\n",
    "import yaml\n",
    "import os\n",
    "import sys\n",
    "from pathlib import Path\n",
    "from datetime import datetime"
   ]
  },
  {
   "cell_type": "code",
   "execution_count": null,
   "id": "7d4fb114-13e4-4317-89fc-96ff85022f6f",
   "metadata": {},
   "outputs": [],
   "source": [
    "paths = yaml.safe_load(open(\"configs/paths.yaml\"))\n",
    "RAW = Path(paths[\"raw_dir\"])\n",
    "INTERIM = Path(paths[\"interim_dir\"]); INTERIM.mkdir(parents=True, exist_ok=True)\n",
    "PROCESSED = Path(paths[\"processed_dir\"]); PROCESSED.mkdir(parents=True, exist_ok=True)\n",
    "\n",
    "raw_path = RAW / \"updated_cigarette_drinking_data.csv\" if (RAW / \"updated_cigarette_drinking_data.csv\").exists() else sorted(RAW.glob(\"*.csv\"))[0]\n",
    "raw_path"
   ]
  },
  {
   "cell_type": "code",
   "execution_count": null,
   "id": "03546f2a-f314-4b52-8155-a9c981471da0",
   "metadata": {},
   "outputs": [
    {
     "ename": "FileNotFoundError",
     "evalue": "[Errno 2] No such file or directory: '/Users/christianfullerton/Desktop/Coding Workspace/Python Workspace/Data Science Practice/Cigarettes and Smoking Data/addiction_population_data.csv'",
     "output_type": "error",
     "traceback": [
      "\u001b[0;31m---------------------------------------------------------------------------\u001b[0m",
      "\u001b[0;31mFileNotFoundError\u001b[0m                         Traceback (most recent call last)",
      "Cell \u001b[0;32mIn[3], line 1\u001b[0m\n\u001b[0;32m----> 1\u001b[0m df \u001b[38;5;241m=\u001b[39m pd\u001b[38;5;241m.\u001b[39mread_csv(data_path)\n\u001b[1;32m      2\u001b[0m df\u001b[38;5;241m.\u001b[39mhead()\n",
      "File \u001b[0;32m/opt/anaconda3/lib/python3.12/site-packages/pandas/io/parsers/readers.py:1026\u001b[0m, in \u001b[0;36mread_csv\u001b[0;34m(filepath_or_buffer, sep, delimiter, header, names, index_col, usecols, dtype, engine, converters, true_values, false_values, skipinitialspace, skiprows, skipfooter, nrows, na_values, keep_default_na, na_filter, verbose, skip_blank_lines, parse_dates, infer_datetime_format, keep_date_col, date_parser, date_format, dayfirst, cache_dates, iterator, chunksize, compression, thousands, decimal, lineterminator, quotechar, quoting, doublequote, escapechar, comment, encoding, encoding_errors, dialect, on_bad_lines, delim_whitespace, low_memory, memory_map, float_precision, storage_options, dtype_backend)\u001b[0m\n\u001b[1;32m   1013\u001b[0m kwds_defaults \u001b[38;5;241m=\u001b[39m _refine_defaults_read(\n\u001b[1;32m   1014\u001b[0m     dialect,\n\u001b[1;32m   1015\u001b[0m     delimiter,\n\u001b[0;32m   (...)\u001b[0m\n\u001b[1;32m   1022\u001b[0m     dtype_backend\u001b[38;5;241m=\u001b[39mdtype_backend,\n\u001b[1;32m   1023\u001b[0m )\n\u001b[1;32m   1024\u001b[0m kwds\u001b[38;5;241m.\u001b[39mupdate(kwds_defaults)\n\u001b[0;32m-> 1026\u001b[0m \u001b[38;5;28;01mreturn\u001b[39;00m _read(filepath_or_buffer, kwds)\n",
      "File \u001b[0;32m/opt/anaconda3/lib/python3.12/site-packages/pandas/io/parsers/readers.py:620\u001b[0m, in \u001b[0;36m_read\u001b[0;34m(filepath_or_buffer, kwds)\u001b[0m\n\u001b[1;32m    617\u001b[0m _validate_names(kwds\u001b[38;5;241m.\u001b[39mget(\u001b[38;5;124m\"\u001b[39m\u001b[38;5;124mnames\u001b[39m\u001b[38;5;124m\"\u001b[39m, \u001b[38;5;28;01mNone\u001b[39;00m))\n\u001b[1;32m    619\u001b[0m \u001b[38;5;66;03m# Create the parser.\u001b[39;00m\n\u001b[0;32m--> 620\u001b[0m parser \u001b[38;5;241m=\u001b[39m TextFileReader(filepath_or_buffer, \u001b[38;5;241m*\u001b[39m\u001b[38;5;241m*\u001b[39mkwds)\n\u001b[1;32m    622\u001b[0m \u001b[38;5;28;01mif\u001b[39;00m chunksize \u001b[38;5;129;01mor\u001b[39;00m iterator:\n\u001b[1;32m    623\u001b[0m     \u001b[38;5;28;01mreturn\u001b[39;00m parser\n",
      "File \u001b[0;32m/opt/anaconda3/lib/python3.12/site-packages/pandas/io/parsers/readers.py:1620\u001b[0m, in \u001b[0;36mTextFileReader.__init__\u001b[0;34m(self, f, engine, **kwds)\u001b[0m\n\u001b[1;32m   1617\u001b[0m     \u001b[38;5;28mself\u001b[39m\u001b[38;5;241m.\u001b[39moptions[\u001b[38;5;124m\"\u001b[39m\u001b[38;5;124mhas_index_names\u001b[39m\u001b[38;5;124m\"\u001b[39m] \u001b[38;5;241m=\u001b[39m kwds[\u001b[38;5;124m\"\u001b[39m\u001b[38;5;124mhas_index_names\u001b[39m\u001b[38;5;124m\"\u001b[39m]\n\u001b[1;32m   1619\u001b[0m \u001b[38;5;28mself\u001b[39m\u001b[38;5;241m.\u001b[39mhandles: IOHandles \u001b[38;5;241m|\u001b[39m \u001b[38;5;28;01mNone\u001b[39;00m \u001b[38;5;241m=\u001b[39m \u001b[38;5;28;01mNone\u001b[39;00m\n\u001b[0;32m-> 1620\u001b[0m \u001b[38;5;28mself\u001b[39m\u001b[38;5;241m.\u001b[39m_engine \u001b[38;5;241m=\u001b[39m \u001b[38;5;28mself\u001b[39m\u001b[38;5;241m.\u001b[39m_make_engine(f, \u001b[38;5;28mself\u001b[39m\u001b[38;5;241m.\u001b[39mengine)\n",
      "File \u001b[0;32m/opt/anaconda3/lib/python3.12/site-packages/pandas/io/parsers/readers.py:1880\u001b[0m, in \u001b[0;36mTextFileReader._make_engine\u001b[0;34m(self, f, engine)\u001b[0m\n\u001b[1;32m   1878\u001b[0m     \u001b[38;5;28;01mif\u001b[39;00m \u001b[38;5;124m\"\u001b[39m\u001b[38;5;124mb\u001b[39m\u001b[38;5;124m\"\u001b[39m \u001b[38;5;129;01mnot\u001b[39;00m \u001b[38;5;129;01min\u001b[39;00m mode:\n\u001b[1;32m   1879\u001b[0m         mode \u001b[38;5;241m+\u001b[39m\u001b[38;5;241m=\u001b[39m \u001b[38;5;124m\"\u001b[39m\u001b[38;5;124mb\u001b[39m\u001b[38;5;124m\"\u001b[39m\n\u001b[0;32m-> 1880\u001b[0m \u001b[38;5;28mself\u001b[39m\u001b[38;5;241m.\u001b[39mhandles \u001b[38;5;241m=\u001b[39m get_handle(\n\u001b[1;32m   1881\u001b[0m     f,\n\u001b[1;32m   1882\u001b[0m     mode,\n\u001b[1;32m   1883\u001b[0m     encoding\u001b[38;5;241m=\u001b[39m\u001b[38;5;28mself\u001b[39m\u001b[38;5;241m.\u001b[39moptions\u001b[38;5;241m.\u001b[39mget(\u001b[38;5;124m\"\u001b[39m\u001b[38;5;124mencoding\u001b[39m\u001b[38;5;124m\"\u001b[39m, \u001b[38;5;28;01mNone\u001b[39;00m),\n\u001b[1;32m   1884\u001b[0m     compression\u001b[38;5;241m=\u001b[39m\u001b[38;5;28mself\u001b[39m\u001b[38;5;241m.\u001b[39moptions\u001b[38;5;241m.\u001b[39mget(\u001b[38;5;124m\"\u001b[39m\u001b[38;5;124mcompression\u001b[39m\u001b[38;5;124m\"\u001b[39m, \u001b[38;5;28;01mNone\u001b[39;00m),\n\u001b[1;32m   1885\u001b[0m     memory_map\u001b[38;5;241m=\u001b[39m\u001b[38;5;28mself\u001b[39m\u001b[38;5;241m.\u001b[39moptions\u001b[38;5;241m.\u001b[39mget(\u001b[38;5;124m\"\u001b[39m\u001b[38;5;124mmemory_map\u001b[39m\u001b[38;5;124m\"\u001b[39m, \u001b[38;5;28;01mFalse\u001b[39;00m),\n\u001b[1;32m   1886\u001b[0m     is_text\u001b[38;5;241m=\u001b[39mis_text,\n\u001b[1;32m   1887\u001b[0m     errors\u001b[38;5;241m=\u001b[39m\u001b[38;5;28mself\u001b[39m\u001b[38;5;241m.\u001b[39moptions\u001b[38;5;241m.\u001b[39mget(\u001b[38;5;124m\"\u001b[39m\u001b[38;5;124mencoding_errors\u001b[39m\u001b[38;5;124m\"\u001b[39m, \u001b[38;5;124m\"\u001b[39m\u001b[38;5;124mstrict\u001b[39m\u001b[38;5;124m\"\u001b[39m),\n\u001b[1;32m   1888\u001b[0m     storage_options\u001b[38;5;241m=\u001b[39m\u001b[38;5;28mself\u001b[39m\u001b[38;5;241m.\u001b[39moptions\u001b[38;5;241m.\u001b[39mget(\u001b[38;5;124m\"\u001b[39m\u001b[38;5;124mstorage_options\u001b[39m\u001b[38;5;124m\"\u001b[39m, \u001b[38;5;28;01mNone\u001b[39;00m),\n\u001b[1;32m   1889\u001b[0m )\n\u001b[1;32m   1890\u001b[0m \u001b[38;5;28;01massert\u001b[39;00m \u001b[38;5;28mself\u001b[39m\u001b[38;5;241m.\u001b[39mhandles \u001b[38;5;129;01mis\u001b[39;00m \u001b[38;5;129;01mnot\u001b[39;00m \u001b[38;5;28;01mNone\u001b[39;00m\n\u001b[1;32m   1891\u001b[0m f \u001b[38;5;241m=\u001b[39m \u001b[38;5;28mself\u001b[39m\u001b[38;5;241m.\u001b[39mhandles\u001b[38;5;241m.\u001b[39mhandle\n",
      "File \u001b[0;32m/opt/anaconda3/lib/python3.12/site-packages/pandas/io/common.py:873\u001b[0m, in \u001b[0;36mget_handle\u001b[0;34m(path_or_buf, mode, encoding, compression, memory_map, is_text, errors, storage_options)\u001b[0m\n\u001b[1;32m    868\u001b[0m \u001b[38;5;28;01melif\u001b[39;00m \u001b[38;5;28misinstance\u001b[39m(handle, \u001b[38;5;28mstr\u001b[39m):\n\u001b[1;32m    869\u001b[0m     \u001b[38;5;66;03m# Check whether the filename is to be opened in binary mode.\u001b[39;00m\n\u001b[1;32m    870\u001b[0m     \u001b[38;5;66;03m# Binary mode does not support 'encoding' and 'newline'.\u001b[39;00m\n\u001b[1;32m    871\u001b[0m     \u001b[38;5;28;01mif\u001b[39;00m ioargs\u001b[38;5;241m.\u001b[39mencoding \u001b[38;5;129;01mand\u001b[39;00m \u001b[38;5;124m\"\u001b[39m\u001b[38;5;124mb\u001b[39m\u001b[38;5;124m\"\u001b[39m \u001b[38;5;129;01mnot\u001b[39;00m \u001b[38;5;129;01min\u001b[39;00m ioargs\u001b[38;5;241m.\u001b[39mmode:\n\u001b[1;32m    872\u001b[0m         \u001b[38;5;66;03m# Encoding\u001b[39;00m\n\u001b[0;32m--> 873\u001b[0m         handle \u001b[38;5;241m=\u001b[39m \u001b[38;5;28mopen\u001b[39m(\n\u001b[1;32m    874\u001b[0m             handle,\n\u001b[1;32m    875\u001b[0m             ioargs\u001b[38;5;241m.\u001b[39mmode,\n\u001b[1;32m    876\u001b[0m             encoding\u001b[38;5;241m=\u001b[39mioargs\u001b[38;5;241m.\u001b[39mencoding,\n\u001b[1;32m    877\u001b[0m             errors\u001b[38;5;241m=\u001b[39merrors,\n\u001b[1;32m    878\u001b[0m             newline\u001b[38;5;241m=\u001b[39m\u001b[38;5;124m\"\u001b[39m\u001b[38;5;124m\"\u001b[39m,\n\u001b[1;32m    879\u001b[0m         )\n\u001b[1;32m    880\u001b[0m     \u001b[38;5;28;01melse\u001b[39;00m:\n\u001b[1;32m    881\u001b[0m         \u001b[38;5;66;03m# Binary mode\u001b[39;00m\n\u001b[1;32m    882\u001b[0m         handle \u001b[38;5;241m=\u001b[39m \u001b[38;5;28mopen\u001b[39m(handle, ioargs\u001b[38;5;241m.\u001b[39mmode)\n",
      "\u001b[0;31mFileNotFoundError\u001b[0m: [Errno 2] No such file or directory: '/Users/christianfullerton/Desktop/Coding Workspace/Python Workspace/Data Science Practice/Cigarettes and Smoking Data/addiction_population_data.csv'"
     ]
    }
   ],
   "source": [
    "try:\n",
    "    sys.path.append(\"src\")\n",
    "    from cig_drink import basic_clean  # reusable project cleaner (why: consistency)\n",
    "except Exception:\n",
    "    def basic_clean(df: pd.DataFrame) -> pd.DataFrame:\n",
    "        df = df.copy()\n",
    "        df.columns = (df.columns.str.strip().str.lower()\n",
    "                      .str.replace(\" \", \"_\", regex=False)\n",
    "                      .str.replace(\"&\", \"and\", regex=False))\n",
    "        return df\n",
    "\n",
    "df = pd.read_csv(raw_path)\n",
    "df = basic_clean(df)\n",
    "df.head()"
   ]
  },
  {
   "cell_type": "code",
   "execution_count": null,
   "id": "4728ea03-5a67-4df2-9d46-89ddbc4bfb44",
   "metadata": {},
   "outputs": [],
   "source": [
    "df['gender'] = df['gender'].astype('category')\n",
    "df['marital_status'] = df['marital_status'].astype('category')\n",
    "df['mental_health_status'] = df['mental_health_status'].astype('category')\n",
    "df['education_level'] = df['education_level'].astype('category')\n",
    "df['employment_status'] = df['employment_status'].astype('category')\n",
    "df['mental_health_status'] = df['mental_health_status'].astype('category')\n",
    "df['exercise_frequency'] = df['exercise_frequency'].astype('category')\n",
    "df['diet_quality'] = df['diet_quality'].astype('category')\n",
    "df['social_support'] = df['social_support'].astype('category')\n",
    "df['therapy_history'] = df['therapy_history'].astype('category')"
   ]
  },
  {
   "cell_type": "code",
   "execution_count": null,
   "id": "d8a39d7e-6873-4e9e-8628-24f0a4a15912",
   "metadata": {},
   "outputs": [],
   "source": [
    "df.info()"
   ]
  },
  {
   "cell_type": "code",
   "execution_count": null,
   "id": "12c5b23a-c4f3-4016-b310-139549e0429e",
   "metadata": {},
   "outputs": [],
   "source": [
    "df.describe()"
   ]
  },
  {
   "cell_type": "code",
   "execution_count": null,
   "id": "311dfdcf-69da-430c-9349-b1db521f2573",
   "metadata": {},
   "outputs": [],
   "source": [
    "df.set_index('id')"
   ]
  },
  {
   "cell_type": "code",
   "execution_count": null,
   "id": "1f941e27-31af-4574-91d4-c1ccd6b9786c",
   "metadata": {},
   "outputs": [],
   "source": [
    "df['annual_income_usd'] = np.round(df['annual_income_usd'], -3)"
   ]
  },
  {
   "cell_type": "code",
   "execution_count": null,
   "id": "9cd33311-46eb-454f-b583-de8acf49e6fa",
   "metadata": {},
   "outputs": [],
   "source": [
    "quantiles = [0, 0.05, 0.25, 0.5, 0.75, 0.9, 1.0]\n",
    "labels = [\"Bottom 5%\", \"Bottom 25%\", \"Bottom 50%\", \"Top 50%\", \"Top 25%\", \"Top 10%\"]\n",
    "df['salary_percentile'] = pd.qcut(df['annual_income_usd'], q=quantiles, labels=labels)\n",
    "df['salary_percentile'] = df['salary_percentile'].astype('category')"
   ]
  },
  {
   "cell_type": "code",
   "execution_count": null,
   "id": "381fc90f-0ea6-4ef6-aba9-fa91b71306c4",
   "metadata": {},
   "outputs": [],
   "source": [
    "choices = ['Teenager', 'Young Adult', 'Middle Age Adult', 'Elder']\n",
    "conditions = [\n",
    "    (df['age'] <= 18),\n",
    "    (df['age'] > 18) & (df['age'] < 30),\n",
    "    (df['age'] >= 30) & (df['age'] <= 59),\n",
    "    (df['age'] >= 60)\n",
    "]\n",
    "df['age_group'] = np.select(conditions, choices, default='Unknown')\n",
    "df['age_group'] = df['age_group'].astype('category')"
   ]
  },
  {
   "cell_type": "code",
   "execution_count": null,
   "id": "6508c47a-5f0b-495f-8e6a-d0333598d1d4",
   "metadata": {},
   "outputs": [],
   "source": [
    "df['adequet_sleep'] = np.where(df['sleep_hours'] > 8, \"Adequet Sleep\", \"Not Adequet Sleep\")\n",
    "df['adequet_sleep'] = df['adequet_sleep'].astype('category')"
   ]
  },
  {
   "cell_type": "code",
   "execution_count": null,
   "id": "954208b1-c8d6-4ae7-92eb-af8624165e1e",
   "metadata": {},
   "outputs": [],
   "source": [
    "conditions = [\n",
    "    # 1. Family with children\n",
    "    (\n",
    "        df['marital_status'].isin(['Married', 'In a relationship']) &\n",
    "        (df['children_count'] > 0)\n",
    "    ),\n",
    "    \n",
    "    # 2. Single parent\n",
    "    (\n",
    "        ~df['marital_status'].isin(['Married', 'In a relationship']) &\n",
    "        (df['children_count'] > 0)\n",
    "    ),\n",
    "    \n",
    "    # 3. Family with no kids\n",
    "    (\n",
    "        (df['children_count'] == 0) &\n",
    "        df['marital_status'].isin(['Married', 'In a relationship'])\n",
    "    )\n",
    "]\n",
    "choices = [\"Family with Children\", \"Single Parent\", \"Family with no Kids\"]\n",
    "df['family_status'] = np.select(conditions, choices, default = \"Other\")\n",
    "df['family_status'] = df['family_status'].astype('category')"
   ]
  },
  {
   "cell_type": "code",
   "execution_count": null,
   "id": "4c6abc26-06cb-42fa-82d9-110c3db6b19a",
   "metadata": {},
   "outputs": [],
   "source": [
    "df.isna().sum()"
   ]
  },
  {
   "cell_type": "code",
   "execution_count": null,
   "id": "04a129cb-1019-4c08-a9a1-b1511301b01a",
   "metadata": {},
   "outputs": [],
   "source": [
    "df['education_level'] = df['education_level'].fillna(\n",
    "    df.groupby(['salary_percentile', 'employment_status','annual_income_usd'])['education_level']\n",
    "      .transform(lambda x: x.mode().iloc[0] if not x.mode().empty else np.nan)\n",
    ")"
   ]
  },
  {
   "cell_type": "code",
   "execution_count": null,
   "id": "aeec7e9f-b5be-4530-9b4d-77f3cf80ddcd",
   "metadata": {},
   "outputs": [],
   "source": [
    "df['social_support'] = df['social_support'].fillna(\n",
    "    df.groupby(\n",
    "        ['family_status', 'marital_status', 'children_count'], observed=True)['social_support']\n",
    "    .transform(lambda x: x.mode().iloc[0] if not x.mode().empty else np.nan)\n",
    ")"
   ]
  },
  {
   "cell_type": "code",
   "execution_count": null,
   "id": "bc9f9b67-f0ce-4b6d-9a43-4bdd71af0f33",
   "metadata": {},
   "outputs": [],
   "source": [
    "df['therapy_history'] = df['therapy_history'].fillna(\n",
    "    df.groupby(\n",
    "        ['family_status', 'marital_status', 'children_count'], observed=True)['therapy_history']\n",
    "    .transform(lambda x: x.mode().iloc[0] if not x.mode().empty else np.nan)\n",
    ")"
   ]
  },
  {
   "cell_type": "code",
   "execution_count": null,
   "id": "901f6ba6-d6ae-4ee3-ab78-1e675086d31b",
   "metadata": {},
   "outputs": [],
   "source": [
    "df = df.dropna(subset=['education_level'])"
   ]
  },
  {
   "cell_type": "code",
   "execution_count": null,
   "id": "4acf07a6-4a59-4e37-82d4-9f8f3d26fe83",
   "metadata": {},
   "outputs": [],
   "source": [
    "df.isna().sum()"
   ]
  },
  {
   "cell_type": "code",
   "execution_count": null,
   "id": "146ca5da-e7bb-468b-a7c1-d02dabb22610",
   "metadata": {},
   "outputs": [],
   "source": [
    "df.info()"
   ]
  },
  {
   "cell_type": "code",
   "execution_count": null,
   "id": "fdaa798d-09da-4287-bcf2-4c9ec5632f73",
   "metadata": {},
   "outputs": [],
   "source": [
    "gender_smoke = df.groupby('gender')['smokes_per_day'].mean().sort_values()\n",
    "\n",
    "plt.figure(figsize=(6, 4))\n",
    "plt.bar(gender_smoke.index, gender_smoke.values, color='darkorange')\n",
    "plt.title('Average Cigarettes per Day by Gender')\n",
    "plt.ylabel('Avg Smokes per Day')\n",
    "plt.xlabel('Gender')\n",
    "plt.tight_layout()\n",
    "plt.show()"
   ]
  },
  {
   "cell_type": "code",
   "execution_count": null,
   "id": "18fdead0-ec03-4744-9cd3-c41f113e1502",
   "metadata": {},
   "outputs": [],
   "source": [
    "plt.figure(figsize=(8, 4))\n",
    "edu_smoking_age = df.groupby('education_level')['age_started_smoking'].mean().sort_values()\n",
    "plt.barh(edu_smoking_age.index, edu_smoking_age.values)\n",
    "plt.title('Average Age Started Smoking by Education Level')\n",
    "plt.xlabel('Average Age Started Smoking')\n",
    "plt.ylabel('Education Level')\n",
    "plt.tight_layout()\n",
    "plt.show()"
   ]
  },
  {
   "cell_type": "code",
   "execution_count": null,
   "id": "95d35ad8-dd3b-442f-b052-41713b9a0ce7",
   "metadata": {},
   "outputs": [],
   "source": [
    "plt.figure(figsize=(6, 4))\n",
    "plt.hist(df['bmi'], bins=25, edgecolor='black')\n",
    "plt.title('BMI Distribution')\n",
    "plt.xlabel('BMI')\n",
    "plt.ylabel('Frequency')\n",
    "plt.tight_layout()\n",
    "plt.show()"
   ]
  },
  {
   "cell_type": "code",
   "execution_count": null,
   "id": "255b0e8a-4a3e-4d4a-8d9d-fe1897b3eac7",
   "metadata": {},
   "outputs": [],
   "source": [
    "plt.figure(figsize=(8, 4))\n",
    "age_sleep = df.groupby('age_group')['sleep_hours'].mean()\n",
    "plt.bar(age_sleep.index, age_sleep.values)\n",
    "plt.title('Average Sleep Hours by Age Group')\n",
    "plt.xlabel('Age Group')\n",
    "plt.ylabel('Sleep Hours')\n",
    "plt.tight_layout()\n",
    "plt.show()"
   ]
  },
  {
   "cell_type": "code",
   "execution_count": null,
   "id": "eabc4042-3e51-4c6c-b92c-72a9a9fad6da",
   "metadata": {},
   "outputs": [],
   "source": [
    "plt.figure(figsize=(8, 4))\n",
    "therapy_quit_smoke = df.groupby('therapy_history')['attempts_to_quit_smoking'].mean().sort_values()\n",
    "plt.barh(therapy_quit_smoke.index, therapy_quit_smoke.values)\n",
    "plt.title('Average Times People Attepted to qui Smoking with Therapy')\n",
    "plt.xlabel('Average Attempts to Quit Smoking')\n",
    "plt.ylabel('Therapy Session')\n",
    "plt.tight_layout()\n",
    "plt.show()"
   ]
  },
  {
   "cell_type": "code",
   "execution_count": null,
   "id": "b11e0cc8-c3ce-4839-8e7d-2f840bb50666",
   "metadata": {},
   "outputs": [],
   "source": [
    "age_bmi_sleep = df.groupby('age_group')[['sleep_hours', 'bmi']].mean()\n",
    "\n",
    "fig, ax1 = plt.subplots(figsize=(8, 4))\n",
    "\n",
    "ax1.set_title('Average Sleep Hours and BMI by Age Group')\n",
    "ax1.set_xlabel('Age Group')\n",
    "ax1.set_ylabel('Average Sleep Hours', color='tab:blue')\n",
    "ax1.bar(age_bmi_sleep.index, age_bmi_sleep['sleep_hours'], alpha=0.6, label='Sleep Hours')\n",
    "ax1.tick_params(axis='y', labelcolor='tab:blue')\n",
    "\n",
    "ax2 = ax1.twinx()\n",
    "ax2.set_ylabel('Average BMI', color='tab:red')\n",
    "ax2.plot(age_bmi_sleep.index, age_bmi_sleep['bmi'], color='tab:red', marker='o', label='BMI')\n",
    "ax2.tick_params(axis='y', labelcolor='tab:red')\n",
    "\n",
    "fig.tight_layout()\n",
    "plt.show()"
   ]
  },
  {
   "cell_type": "code",
   "execution_count": null,
   "id": "8c92e83a-2534-42fe-a9bc-3be63d4a3be7",
   "metadata": {},
   "outputs": [],
   "source": [
    "marital_counts = df['marital_status'].value_counts()\n",
    "\n",
    "plt.figure(figsize=(6, 6))\n",
    "plt.pie(marital_counts, labels=marital_counts.index, autopct='%1.1f%%', startangle=140)\n",
    "plt.title('Marital Status Distribution')\n",
    "plt.tight_layout()\n",
    "plt.show()"
   ]
  },
  {
   "cell_type": "code",
   "execution_count": null,
   "id": "ae45f42e-39da-472f-832f-4b783dbd0eed",
   "metadata": {},
   "outputs": [],
   "source": [
    "stamp = datetime.now().strftime(\"%Y%m%d-%H%M\")\n",
    "wip_path = INTERIM / f\"cleaned_wip_{stamp}.csv\"\n",
    "final_path = PROCESSED / \"cleaned.csv\"\n",
    "\n",
    "df.to_csv(wip_path, index=False)\n",
    "df.to_csv(final_path, index=False)\n",
    "\n",
    "print(\"Wrote:\", wip_path)\n",
    "print(\"Wrote:\", final_path)"
   ]
  },
  {
   "cell_type": "code",
   "execution_count": null,
   "id": "5f46abed-4260-47f5-9287-0b593e02d1e8",
   "metadata": {},
   "outputs": [],
   "source": []
  }
 ],
 "metadata": {
  "kernelspec": {
   "display_name": "Python 3 (ipykernel)",
   "language": "python",
   "name": "python3"
  },
  "language_info": {
   "codemirror_mode": {
    "name": "ipython",
    "version": 3
   },
   "file_extension": ".py",
   "mimetype": "text/x-python",
   "name": "python",
   "nbconvert_exporter": "python",
   "pygments_lexer": "ipython3",
   "version": "3.12.7"
  }
 },
 "nbformat": 4,
 "nbformat_minor": 5
}
