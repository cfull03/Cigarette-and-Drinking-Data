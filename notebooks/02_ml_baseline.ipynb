{
 "cells": [
  {
   "cell_type": "code",
   "execution_count": null,
   "id": "496b19fc-6903-4b40-9dbe-eb74f686a867",
   "metadata": {},
   "outputs": [
    {
     "ename": "NameError",
     "evalue": "name 'CFG' is not defined",
     "output_type": "error",
     "traceback": [
      "\u001b[0;31m---------------------------------------------------------------------------\u001b[0m",
      "\u001b[0;31mNameError\u001b[0m                                 Traceback (most recent call last)",
      "Cell \u001b[0;32mIn[1], line 33\u001b[0m\n\u001b[1;32m     31\u001b[0m TEST_SIZE: \u001b[38;5;28mfloat\u001b[39m \u001b[38;5;241m=\u001b[39m \u001b[38;5;241m0.2\u001b[39m\n\u001b[1;32m     32\u001b[0m \u001b[38;5;66;03m# Use CFG from earlier bootstrap if available; else default\u001b[39;00m\n\u001b[0;32m---> 33\u001b[0m RANDOM_STATE: \u001b[38;5;28mint\u001b[39m \u001b[38;5;241m=\u001b[39m (CFG\u001b[38;5;241m.\u001b[39mget(\u001b[38;5;124m\"\u001b[39m\u001b[38;5;124mrandom_state\u001b[39m\u001b[38;5;124m\"\u001b[39m, \u001b[38;5;241m42\u001b[39m) \u001b[38;5;28;01mif\u001b[39;00m \u001b[38;5;28misinstance\u001b[39m(CFG, \u001b[38;5;28mdict\u001b[39m) \u001b[38;5;28;01melse\u001b[39;00m \u001b[38;5;241m42\u001b[39m)\n",
      "\u001b[0;31mNameError\u001b[0m: name 'CFG' is not defined"
     ]
    }
   ],
   "source": [
    "%load_ext autoreload\n",
    "%autoreload 2\n",
    "\n",
    "\n",
    "from pathlib import Path\n",
    "import json, time\n",
    "import pandas as pd\n",
    "import numpy as np\n",
    "\n",
    "\n",
    "from addiction_ds.io import load_cfg, save_model, load_model, get_paths\n",
    "\n",
    "\n",
    "from sklearn.compose import ColumnTransformer\n",
    "from sklearn.pipeline import Pipeline\n",
    "from sklearn.impute import SimpleImputer\n",
    "from sklearn.preprocessing import OneHotEncoder, StandardScaler\n",
    "from sklearn.linear_model import LogisticRegression, SGDClassifier\n",
    "from sklearn.ensemble import RandomForestClassifier, GradientBoostingClassifier\n",
    "from sklearn.svm import SVC\n",
    "from sklearn.metrics import (\n",
    "    roc_auc_score,\n",
    "    accuracy_score,\n",
    "    precision_score,\n",
    "    recall_score,\n",
    "    f1_score,\n",
    "    classification_report,\n",
    "    confusion_matrix,\n",
    ")"
   ]
  },
  {
   "cell_type": "code",
   "execution_count": null,
   "id": "3ba73b64",
   "metadata": {},
   "outputs": [],
   "source": [
    "# config\n",
    "CFG_PATH = \"configs/experiment.yaml\"\n",
    "cfg = load_cfg(CFG_PATH)\n",
    "label = cfg.get(\"label\", \"is_smoker\")\n",
    "num_feats = cfg[\"features\"][\"numeric\"]\n",
    "cat_feats = cfg[\"features\"][\"categorical\"]\n",
    "paths = cfg.get(\"paths\", {})\n",
    "TRAIN_CSV = Path(paths.get(\"train_csv\", \"data/processed/train.csv\"))\n",
    "VAL_CSV = Path(paths.get(\"val_csv\", \"data/processed/val.csv\"))\n",
    "RANDOM_STATE = int(cfg.get(\"random_state\", 42))\n",
    "PREP = cfg.get(\"preprocessing\", {})\n",
    "MODEL_CFG = cfg.get(\"model\", {\"name\": \"logistic_regression\", \"params\": {\"max_iter\": 1000}})"
   ]
  },
  {
   "cell_type": "code",
   "execution_count": null,
   "id": "750fce01-6415-4e07-af28-054651b3f282",
   "metadata": {},
   "outputs": [],
   "source": [
    "try:\n",
    "    P = get_paths(cfg)\n",
    "    MODELS_DIR = P.get(\"models_dir\", \"models\")\n",
    "    REPORTS_DIR = P.get(\"reports_dir\", \"reports\")\n",
    "except Exception:\n",
    "    MODELS_DIR = \"models\"\n",
    "    REPORTS_DIR = \"reports\"\n",
    "Path(MODELS_DIR).mkdir(parents=True, exist_ok=True)\n",
    "Path(REPORTS_DIR).mkdir(parents=True, exist_ok=True)"
   ]
  },
  {
   "cell_type": "code",
   "execution_count": null,
   "id": "885028ec",
   "metadata": {},
   "outputs": [],
   "source": [
    "# allowed estimators\n",
    "ALLOWED = {\n",
    "    \"logistic_regression\": LogisticRegression,\n",
    "    \"random_forest\": RandomForestClassifier,\n",
    "    \"gradient_boosting\": GradientBoostingClassifier,\n",
    "    \"svc\": SVC,\n",
    "    \"sgd_classifier\": SGDClassifier,\n",
    "}\n",
    "\n",
    "\n",
    "print(\"models_dir:\", MODELS_DIR)\n",
    "print(\"reports_dir:\", REPORTS_DIR)  "
   ]
  },
  {
   "cell_type": "code",
   "execution_count": null,
   "id": "b5e01072-f796-49f8-a543-942096a9856c",
   "metadata": {},
   "outputs": [
    {
     "data": {
      "text/plain": [
       "Index(['age', 'gender', 'country', 'education_level', 'employment_status',\n",
       "       'annual_income_usd', 'marital_status', 'children_count',\n",
       "       'smokes_per_day', 'drinks_per_week', 'age_started_smoking',\n",
       "       'age_started_drinking', 'attempts_to_quit_smoking',\n",
       "       'attempts_to_quit_drinking', 'has_health_issues',\n",
       "       'mental_health_status', 'exercise_frequency', 'diet_quality',\n",
       "       'sleep_hours', 'bmi', 'social_support', 'therapy_history',\n",
       "       'salary_percentile', 'age_group', 'adequet_sleep', 'family_status'],\n",
       "      dtype='object')"
      ]
     },
     "execution_count": 3,
     "metadata": {},
     "output_type": "execute_result"
    }
   ],
   "source": [
    "assert TRAIN_CSV.exists(), f\"Missing {TRAIN_CSV}.\"\n",
    "assert VAL_CSV.exists(), f\"Missing {VAL_CSV}.\"\n",
    "\n",
    "\n",
    "train_df = pd.read_csv(TRAIN_CSV)\n",
    "val_df = pd.read_csv(VAL_CSV)\n",
    "print(train_df.shape, val_df.shape)\n",
    "\n",
    "\n",
    "for col in num_feats + cat_feats + [label]:\n",
    "    assert col in train_df.columns, f\"'{col}' not in train_df\"\n",
    "    assert col in val_df.columns, f\"'{col}' not in val_df\"\n",
    "\n",
    "\n",
    "X_train = train_df[num_feats + cat_feats]\n",
    "y_train = train_df[label]\n",
    "X_val = val_df[num_feats + cat_feats]\n",
    "y_val = val_df[label]"
   ]
  },
  {
   "cell_type": "code",
   "execution_count": null,
   "id": "38fe659d-494e-4550-a554-2316e44c1e4c",
   "metadata": {},
   "outputs": [],
   "source": [
    "num_steps = [(\"impute\", SimpleImputer(strategy=PREP.get(\"impute_numeric\", \"median\")))]\n",
    "if PREP.get(\"scale_numeric\", True):\n",
    "    num_steps.append((\"scale\", StandardScaler()))\n",
    "num_pipe = Pipeline(num_steps)\n",
    "\n",
    "\n",
    "cat_pipe = Pipeline([\n",
    "    (\"impute\", SimpleImputer(strategy=PREP.get(\"impute_categorical\", \"most_frequent\"))),\n",
    "    (\"onehot\", OneHotEncoder(handle_unknown=\"ignore\", sparse_output=False)),\n",
    "])\n",
    "\n",
    "\n",
    "pre = ColumnTransformer(\n",
    "    transformers=[\n",
    "        (\"num\", num_pipe, num_feats),\n",
    "        (\"cat\", cat_pipe, cat_feats),\n",
    "    ],\n",
    "    remainder=\"drop\",\n",
    "    verbose_feature_names_out=False,\n",
    ")\n",
    "pre"
   ]
  },
  {
   "cell_type": "code",
   "execution_count": null,
   "id": "59468026",
   "metadata": {},
   "outputs": [],
   "source": [
    "model_name = MODEL_CFG.get(\"name\", \"logistic_regression\")\n",
    "params = dict(MODEL_CFG.get(\"params\", {}))\n",
    "\n",
    "\n",
    "Est = ALLOWED[model_name]\n",
    "if model_name == \"svc\":\n",
    "    params = {\"probability\": True, **params}\n",
    "# inject random_state if supported\n",
    "try:\n",
    "    if \"random_state\" in Est().get_params():\n",
    "        params = {\"random_state\": RANDOM_STATE, **params}\n",
    "except Exception:\n",
    "    pass\n",
    "\n",
    "\n",
    "clf = Est(**params)\n",
    "clf"
   ]
  },
  {
   "cell_type": "code",
   "execution_count": null,
   "id": "07806a30",
   "metadata": {},
   "outputs": [],
   "source": [
    "pipe = Pipeline([\n",
    "    (\"pre\", pre),\n",
    "    (\"model\", clf),\n",
    "])\n",
    "pipe.fit(X_train, y_train)\n",
    "pipe"
   ]
  },
  {
   "cell_type": "code",
   "execution_count": null,
   "id": "6fdc6b24",
   "metadata": {},
   "outputs": [],
   "source": [
    "# why: consistent AUC even if estimator lacks predict_proba\n",
    "if hasattr(pipe.named_steps[\"model\"], \"predict_proba\"):\n",
    "    scores = pipe.predict_proba(X_val)[:, 1]\n",
    "elif hasattr(pipe.named_steps[\"model\"], \"decision_function\"):\n",
    "    s = np.asarray(pipe.decision_function(X_val), dtype=float)\n",
    "    scores = (s - s.min()) / (s.max() - s.min() + 1e-12)\n",
    "else:\n",
    "    raise RuntimeError(\"Estimator provides neither predict_proba nor decision_function.\")\n",
    "\n",
    "\n",
    "preds = (scores >= 0.5).astype(int)\n",
    "auc = float(roc_auc_score(y_val, scores))\n",
    "acc = float(accuracy_score(y_val, preds))\n",
    "prec = float(precision_score(y_val, preds, zero_division=0))\n",
    "rec = float(recall_score(y_val, preds, zero_division=0))\n",
    "f1 = float(f1_score(y_val, preds, zero_division=0))\n",
    "cm = confusion_matrix(y_val, preds)\n",
    "\n",
    "\n",
    "metrics = {\n",
    "    \"timestamp\": time.strftime(\"%Y-%m-%d %H:%M:%S\"),\n",
    "        \"model\": model_name,\n",
    "    \"params\": params,\n",
    "    \"scores\": {\"auc\": auc, \"accuracy\": acc, \"precision\": prec, \"recall\": rec, \"f1\": f1},\n",
    "}\n",
    "print(metrics)\n",
    "print(classification_report(y_val, preds, zero_division=0))"
   ]
  },
  {
   "cell_type": "code",
   "execution_count": null,
   "id": "a4aaa57c",
   "metadata": {},
   "outputs": [],
   "source": [
    "stamp = time.strftime(\"%Y%m%d-%H%M%S\")\n",
    "versioned_name = f\"{stamp}_{model_name}\"\n",
    "\n",
    "\n",
    "path_versioned = save_model(pipe, cfg, name=versioned_name, framework=\"sklearn\")\n",
    "path_latest = save_model(pipe, cfg, name=\"latest\", framework=\"sklearn\")\n",
    "\n",
    "\n",
    "print(\"Saved versioned →\", path_versioned)\n",
    "print(\"Updated latest →\", path_latest)"
   ]
  },
  {
   "cell_type": "code",
   "execution_count": null,
   "id": "c0a3df53",
   "metadata": {},
   "outputs": [],
   "source": [
    "# files\n",
    "metrics_json = Path(REPORTS_DIR) / f\"metrics_{stamp}.json\"\n",
    "metrics_latest = Path(REPORTS_DIR) / \"metrics_latest.json\"\n",
    "metrics_csv = Path(REPORTS_DIR) / f\"metrics_{stamp}.csv\"\n",
    "clf_txt = Path(REPORTS_DIR) / f\"classification_report_{stamp}.txt\"\n",
    "cm_csv = Path(REPORTS_DIR) / f\"confusion_matrix_{stamp}.csv\"\n",
    "\n",
    "\n",
    "# json\n",
    "metrics_json.write_text(json.dumps(metrics, indent=2))\n",
    "metrics_latest.write_text(json.dumps(metrics, indent=2))\n",
    "\n",
    "\n",
    "# csv (flat)\n",
    "(pd.DataFrame([metrics[\"scores\"]])\n",
    ".assign(model=metrics[\"model\"], timestamp=metrics[\"timestamp\"])\n",
    ".to_csv(metrics_csv, index=False))\n",
    "\n",
    "\n",
    "# classification report text\n",
    "clf_txt.write_text(classification_report(y_val, preds, zero_division=0))\n",
    "\n",
    "\n",
    "# confusion matrix\n",
    "pd.DataFrame(cm, columns=[\"pred_0\",\"pred_1\"], index=[\"true_0\",\"true_1\"]).to_csv(cm_csv)\n",
    "\n",
    "\n",
    "print(\"Wrote:\")\n",
    "for p in [metrics_json, metrics_latest, metrics_csv, clf_txt, cm_csv]:\n",
    "    print(\" -\", p)"
   ]
  }
 ],
 "metadata": {
  "kernelspec": {
   "display_name": "base",
   "language": "python",
   "name": "python3"
  },
  "language_info": {
   "codemirror_mode": {
    "name": "ipython",
    "version": 3
   },
   "file_extension": ".py",
   "mimetype": "text/x-python",
   "name": "python",
   "nbconvert_exporter": "python",
   "pygments_lexer": "ipython3",
   "version": "3.12.7"
  }
 },
 "nbformat": 4,
 "nbformat_minor": 5
}
